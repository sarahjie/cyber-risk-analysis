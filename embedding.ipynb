{
 "cells": [
  {
   "cell_type": "code",
   "execution_count": 3,
   "metadata": {},
   "outputs": [
    {
     "data": {
      "text/plain": [
       "<module 'typing_extensions' from '/opt/anaconda3/lib/python3.7/site-packages/typing_extensions.py'>"
      ]
     },
     "execution_count": 3,
     "metadata": {},
     "output_type": "execute_result"
    }
   ],
   "source": [
    "from importlib import reload\n",
    "reload(typing_extensions)"
   ]
  },
  {
   "cell_type": "code",
   "execution_count": 4,
   "metadata": {},
   "outputs": [],
   "source": [
    "import spacy"
   ]
  },
  {
   "cell_type": "code",
   "execution_count": 5,
   "metadata": {},
   "outputs": [],
   "source": [
    "nlp = spacy.load(\"en_core_web_md\")"
   ]
  },
  {
   "cell_type": "code",
   "execution_count": 7,
   "metadata": {},
   "outputs": [],
   "source": [
    "import pandas as pd\n",
    "df = pd.read_excel(\"AdivisenData_REVISE.xlsx\")\n",
    "X_raw = df['CASE_DESCRIPTION']"
   ]
  },
  {
   "cell_type": "code",
   "execution_count": 20,
   "metadata": {},
   "outputs": [],
   "source": [
    "def embed_text(text):\n",
    "    if isinstance(text, str):\n",
    "        doc = nlp(text)\n",
    "        return doc.vector\n",
    "    return None  "
   ]
  },
  {
   "cell_type": "code",
   "execution_count": 33,
   "metadata": {},
   "outputs": [
    {
     "name": "stdout",
     "output_type": "stream",
     "text": [
      "                                                Text\n",
      "0  In September 2006, John L. Burgess alleged tha...\n",
      "1  Greenpoint Credit Corp. initially sued non-Eng...\n",
      "2  In February 1995 to September 1996, the Wester...\n",
      "3  Car Dealership Settles Lawsuit over Faxed Ads:...\n",
      "4  Credit Reporting Company Committed Multiple Vi...\n"
     ]
    }
   ],
   "source": [
    "X_raw_dict = {\n",
    "    'Text':X_raw\n",
    "}\n",
    "X_rawdf = pd.DataFrame(X_raw_dict)\n",
    "print(X_rawdf.head())\n"
   ]
  },
  {
   "cell_type": "code",
   "execution_count": 26,
   "metadata": {},
   "outputs": [],
   "source": [
    "# Specify the column you want to check\n",
    "column_to_check = 'Text'\n",
    "\n",
    "# Filter and keep only rows where the specified column is a string\n",
    "X_woNANdf = X_rawdf[X_rawdf[column_to_check].apply(lambda x: isinstance(x, str))]\n"
   ]
  },
  {
   "cell_type": "code",
   "execution_count": 28,
   "metadata": {},
   "outputs": [
    {
     "ename": "NameError",
     "evalue": "name 'np' is not defined",
     "output_type": "error",
     "traceback": [
      "\u001b[0;31m---------------------------------------------------------------------------\u001b[0m",
      "\u001b[0;31mNameError\u001b[0m                                 Traceback (most recent call last)",
      "\u001b[0;32m<ipython-input-28-1fd995823859>\u001b[0m in \u001b[0;36m<module>\u001b[0;34m\u001b[0m\n\u001b[1;32m      3\u001b[0m \u001b[0;34m\u001b[0m\u001b[0m\n\u001b[1;32m      4\u001b[0m \u001b[0;31m# Convert the list of embeddings to a NumPy array\u001b[0m\u001b[0;34m\u001b[0m\u001b[0;34m\u001b[0m\u001b[0;34m\u001b[0m\u001b[0m\n\u001b[0;32m----> 5\u001b[0;31m \u001b[0membedded_array\u001b[0m \u001b[0;34m=\u001b[0m \u001b[0mnp\u001b[0m\u001b[0;34m.\u001b[0m\u001b[0marray\u001b[0m\u001b[0;34m(\u001b[0m\u001b[0mnew_df\u001b[0m\u001b[0;34m)\u001b[0m\u001b[0;34m\u001b[0m\u001b[0;34m\u001b[0m\u001b[0m\n\u001b[0m",
      "\u001b[0;31mNameError\u001b[0m: name 'np' is not defined"
     ]
    }
   ],
   "source": [
    "# Embed each item in the dataset\n",
    "new_df = X_woNANdf['Text'].apply(embed_text)\n",
    "\n",
    "# Convert the list of embeddings to a NumPy array\n",
    "embedded_array = np.array(new_df)"
   ]
  },
  {
   "cell_type": "code",
   "execution_count": 21,
   "metadata": {},
   "outputs": [
    {
     "name": "stdout",
     "output_type": "stream",
     "text": [
      "Non-string values in the 'Text' column:\n",
      "130563    NaN\n",
      "130589    NaN\n",
      "130595    NaN\n",
      "130624    NaN\n",
      "130668    NaN\n",
      "130676    NaN\n",
      "130693    NaN\n",
      "130880    NaN\n",
      "130894    NaN\n",
      "130902    NaN\n",
      "131042    NaN\n",
      "131085    NaN\n",
      "131107    NaN\n",
      "131109    NaN\n",
      "131189    NaN\n",
      "131199    NaN\n",
      "131203    NaN\n",
      "131293    NaN\n",
      "131322    NaN\n",
      "131413    NaN\n",
      "131578    NaN\n",
      "131599    NaN\n",
      "131741    NaN\n",
      "Name: Text, dtype: object\n"
     ]
    }
   ],
   "source": [
    "\n",
    "\n",
    "# Find and print non-string values in the specified column\n",
    "non_string_values = X_rawdf[X_rawdf[column_to_check].apply(lambda x: not isinstance(x, str))][column_to_check]\n",
    "\n",
    "print(\"Non-string values in the '{}' column:\".format(column_to_check))\n",
    "print(non_string_values)"
   ]
  },
  {
   "cell_type": "code",
   "execution_count": 27,
   "metadata": {},
   "outputs": [
    {
     "name": "stdout",
     "output_type": "stream",
     "text": [
      "Non-string values in the 'Text' column:\n",
      "Series([], Name: Text, dtype: object)\n"
     ]
    }
   ],
   "source": [
    "\n",
    "# Find and print non-string values in the specified column\n",
    "non_string_values = X_woNANdf[X_woNANdf[column_to_check].apply(lambda x: not isinstance(x, str))][column_to_check]\n",
    "\n",
    "print(\"Non-string values in the '{}' column:\".format(column_to_check))\n",
    "print(non_string_values)"
   ]
  },
  {
   "cell_type": "code",
   "execution_count": 29,
   "metadata": {},
   "outputs": [],
   "source": [
    "import numpy as np\n",
    "# Convert the list of embeddings to a NumPy array\n",
    "embedded_array = np.array(new_df)"
   ]
  },
  {
   "cell_type": "code",
   "execution_count": 30,
   "metadata": {},
   "outputs": [],
   "source": [
    "np.save('embedded_data.npy', embedded_array)"
   ]
  },
  {
   "cell_type": "code",
   "execution_count": 32,
   "metadata": {},
   "outputs": [
    {
     "name": "stdout",
     "output_type": "stream",
     "text": [
      "0    [-4.143671, -4.173544, -0.47573307, 0.7367628,...\n",
      "1    [-2.5470493, -0.6474887, -1.6801901, 0.4845280...\n",
      "2    [-2.7318335, -0.80909544, -1.298955, 0.6014351...\n",
      "3    [-2.5850286, -0.27713546, -1.8009942, 0.312672...\n",
      "4    [-2.3383462, -0.116950735, -1.6940409, -0.0319...\n",
      "Name: Text, dtype: object\n"
     ]
    }
   ],
   "source": [
    "print(new_df.head())"
   ]
  },
  {
   "cell_type": "code",
   "execution_count": null,
   "metadata": {},
   "outputs": [],
   "source": []
  }
 ],
 "metadata": {
  "kernelspec": {
   "display_name": "Python 3",
   "language": "python",
   "name": "python3"
  },
  "language_info": {
   "codemirror_mode": {
    "name": "ipython",
    "version": 3
   },
   "file_extension": ".py",
   "mimetype": "text/x-python",
   "name": "python",
   "nbconvert_exporter": "python",
   "pygments_lexer": "ipython3",
   "version": "3.7.4"
  }
 },
 "nbformat": 4,
 "nbformat_minor": 2
}
