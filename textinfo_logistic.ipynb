{
 "cells": [
  {
   "cell_type": "code",
   "execution_count": 43,
   "metadata": {},
   "outputs": [
    {
     "name": "stderr",
     "output_type": "stream",
     "text": [
      "[nltk_data] Downloading package stopwords to\n",
      "[nltk_data]     /Users/xiaoyijie/nltk_data...\n",
      "[nltk_data]   Package stopwords is already up-to-date!\n"
     ]
    }
   ],
   "source": [
    "from sklearn.feature_extraction.text import TfidfVectorizer\n",
    "from sklearn.linear_model import LogisticRegression\n",
    "from sklearn.pipeline import make_pipeline\n",
    "from sklearn.model_selection import train_test_split\n",
    "from sklearn.metrics import classification_report\n",
    "from sklearn.metrics import accuracy_score\n",
    "from sklearn.pipeline import Pipeline\n",
    "from sklearn.feature_extraction.text import CountVectorizer\n",
    "from sklearn.feature_extraction.text import TfidfTransformer\n",
    "import pandas as pd\n",
    "from bs4 import BeautifulSoup\n",
    "from nltk.corpus import stopwords\n",
    "import nltk\n",
    "nltk.download('stopwords')\n",
    "from nltk.stem import PorterStemmer\n",
    "import re"
   ]
  },
  {
   "cell_type": "code",
   "execution_count": 97,
   "metadata": {},
   "outputs": [],
   "source": [
    "df = pd.read_excel(\"AdivisenData_REVISE.xlsx\")"
   ]
  },
  {
   "cell_type": "code",
   "execution_count": 99,
   "metadata": {},
   "outputs": [],
   "source": [
    "def rm_number(text):\n",
    "    return re.sub(r'\\d+', '', str(text))\n",
    "\n",
    "def rm_whitespaces(text):\n",
    "    return re.sub(r' +', ' ', str(text))\n",
    "\n",
    "def rm_nonascii(text):\n",
    "    return re.sub(r'[^\\x00-\\x7f]', r'', str(text))\n",
    "\n",
    "def rm_punct(text):\n",
    "    return re.sub(r'[\\\"\\#\\$\\%\\&\\'\\(\\)\\*\\+\\/\\:\\;\\<\\=\\>\\@\\[\\\\\\]\\^\\_\\`\\{\\|\\}\\~]', ' ', str(text))\n",
    "def clean_pipeline_stem(text):\n",
    "    ps = PorterStemmer()\n",
    "    #temp = rm_number(text)\n",
    "    temp = rm_whitespaces(text)\n",
    "    temp = rm_nonascii(temp)\n",
    "    temp = rm_punct(temp)\n",
    "    #STOPWORDS = set(stopwords.words('english'))\n",
    "    #result = ' '.join(word for word in temp.split() if word not in STOPWORDS) # delete stopwors from text\n",
    "    #stemming\n",
    "    result = ' '.join(ps.stem(word) for word in temp.split())\n",
    "    return result"
   ]
  },
  {
   "cell_type": "code",
   "execution_count": 188,
   "metadata": {},
   "outputs": [
    {
     "name": "stdout",
     "output_type": "stream",
     "text": [
      "                                    CASE_DESCRIPTION\n",
      "0  In September 2006, John L. Burgess alleged tha...\n",
      "1  Greenpoint Credit Corp. initially sued non-Eng...\n",
      "2  In February 1995 to September 1996, the Wester...\n",
      "3  Car Dealership Settles Lawsuit over Faxed Ads:...\n",
      "4  Credit Reporting Company Committed Multiple Vi...\n"
     ]
    }
   ],
   "source": [
    "\n",
    "#feature_cols = ['new','COUNTRY_CODE_revised','CASESTATUS_revised','JURIS_TRIGGER_revised','FINANCIAL_DAMAGES_AMT', 'TOTAL_AMOUNT', 'SETTLEMENT_AMOUNT', 'SETTLEMENT_AMOUNT_CASH','COMPANY_ID']\n",
    "feature_cols = ['CASE_DESCRIPTION']\n",
    "X = df[feature_cols]\n",
    "print(X.head())\n",
    "label = ['CASE_CATEGORY_revised']\n",
    "y = df[label]\n",
    "\n",
    "X_new_stem = X['CASE_DESCRIPTION'].apply(clean_pipeline_stem)\n"
   ]
  },
  {
   "cell_type": "code",
   "execution_count": 11,
   "metadata": {},
   "outputs": [],
   "source": [
    "y = y.values.ravel()"
   ]
  },
  {
   "cell_type": "code",
   "execution_count": 190,
   "metadata": {},
   "outputs": [],
   "source": [
    "X_new_stem_train, X_new_stem_test, y_train, y_test = train_test_split(X_new_stem, y, test_size=0.25, random_state=16, stratify= y)"
   ]
  },
  {
   "cell_type": "code",
   "execution_count": 185,
   "metadata": {},
   "outputs": [],
   "source": [
    "def clean_pipeline(text):\n",
    "    ps = PorterStemmer()\n",
    "    #temp = rm_number(text)\n",
    "    temp = rm_whitespaces(text)\n",
    "    temp = rm_nonascii(temp)\n",
    "    temp = rm_punct(temp)\n",
    "    return temp\n",
    "X_new = X['CASE_DESCRIPTION'].apply(clean_pipeline)\n",
    "X_new_train, X_new_test, y_train, y_test = train_test_split(X_new, y, test_size=0.25, random_state=16, stratify= y)"
   ]
  },
  {
   "cell_type": "code",
   "execution_count": 189,
   "metadata": {},
   "outputs": [
    {
     "data": {
      "text/plain": [
       "0    In septemb 2006, john L. burgess alleg that at...\n",
       "1    greenpoint credit corp. initi su non-english s...\n",
       "2    In februari 1995 to septemb 1996, the western ...\n",
       "3    car dealership settl lawsuit over fax ad A car...\n",
       "4    credit report compani commit multipl violat A ...\n",
       "Name: CASE_DESCRIPTION, dtype: object"
      ]
     },
     "execution_count": 189,
     "metadata": {},
     "output_type": "execute_result"
    }
   ],
   "source": [
    "X_new_stem.head()\n"
   ]
  },
  {
   "cell_type": "markdown",
   "metadata": {},
   "source": [
    "# <font color=blue>CASE_CATEGORY prediction</font>\n",
    "***"
   ]
  },
  {
   "cell_type": "markdown",
   "metadata": {},
   "source": [
    "## predictions using only text info"
   ]
  },
  {
   "cell_type": "markdown",
   "metadata": {},
   "source": [
    "### without stemming"
   ]
  },
  {
   "cell_type": "code",
   "execution_count": 187,
   "metadata": {},
   "outputs": [
    {
     "name": "stderr",
     "output_type": "stream",
     "text": [
      "/opt/anaconda3/lib/python3.7/site-packages/sklearn/linear_model/logistic.py:432: FutureWarning: Default solver will be changed to 'lbfgs' in 0.22. Specify a solver to silence this warning.\n",
      "  FutureWarning)\n",
      "/opt/anaconda3/lib/python3.7/site-packages/sklearn/utils/validation.py:724: DataConversionWarning: A column-vector y was passed when a 1d array was expected. Please change the shape of y to (n_samples, ), for example using ravel().\n",
      "  y = column_or_1d(y, warn=True)\n"
     ]
    },
    {
     "name": "stdout",
     "output_type": "stream",
     "text": [
      "accuracy 0.9989231664726426\n",
      "              precision    recall  f1-score   support\n",
      "\n",
      "           0       0.19      0.33      0.24        18\n",
      "           1       1.00      1.00      1.00     34342\n",
      "\n",
      "    accuracy                           1.00     34360\n",
      "   macro avg       0.60      0.67      0.62     34360\n",
      "weighted avg       1.00      1.00      1.00     34360\n",
      "\n"
     ]
    }
   ],
   "source": [
    "weights = {0:2000, 1:1}\n",
    "logreg = Pipeline([('vect', CountVectorizer()),\n",
    "                ('tfidf', TfidfTransformer()),\n",
    "                ('clf', LogisticRegression(class_weight=weights)),\n",
    "               ])\n",
    "logreg.fit(X_new_train, y_train)\n",
    "\n",
    "\n",
    "\n",
    "y_pred = logreg.predict(X_new_test)\n",
    "\n",
    "print('accuracy %s' % accuracy_score(y_pred, y_test))\n",
    "print(classification_report(y_test, y_pred))"
   ]
  },
  {
   "cell_type": "markdown",
   "metadata": {},
   "source": [
    "### with stemming"
   ]
  },
  {
   "cell_type": "code",
   "execution_count": 191,
   "metadata": {},
   "outputs": [
    {
     "name": "stderr",
     "output_type": "stream",
     "text": [
      "/opt/anaconda3/lib/python3.7/site-packages/sklearn/linear_model/logistic.py:432: FutureWarning: Default solver will be changed to 'lbfgs' in 0.22. Specify a solver to silence this warning.\n",
      "  FutureWarning)\n",
      "/opt/anaconda3/lib/python3.7/site-packages/sklearn/utils/validation.py:724: DataConversionWarning: A column-vector y was passed when a 1d array was expected. Please change the shape of y to (n_samples, ), for example using ravel().\n",
      "  y = column_or_1d(y, warn=True)\n"
     ]
    },
    {
     "name": "stdout",
     "output_type": "stream",
     "text": [
      "accuracy 0.9989231664726426\n",
      "              precision    recall  f1-score   support\n",
      "\n",
      "           0       0.17      0.28      0.21        18\n",
      "           1       1.00      1.00      1.00     34342\n",
      "\n",
      "    accuracy                           1.00     34360\n",
      "   macro avg       0.59      0.64      0.61     34360\n",
      "weighted avg       1.00      1.00      1.00     34360\n",
      "\n"
     ]
    }
   ],
   "source": [
    "weights = {0:2000, 1:1}\n",
    "logreg = Pipeline([('vect', CountVectorizer()),\n",
    "                ('tfidf', TfidfTransformer()),\n",
    "                ('clf', LogisticRegression(class_weight=weights)),\n",
    "               ])\n",
    "logreg.fit(X_new_stem_train, y_train)\n",
    "\n",
    "\n",
    "\n",
    "y_pred = logreg.predict(X_new_stem_test)\n",
    "\n",
    "print('accuracy %s' % accuracy_score(y_pred, y_test))\n",
    "print(classification_report(y_test, y_pred))"
   ]
  },
  {
   "cell_type": "markdown",
   "metadata": {},
   "source": [
    "##### conclusion: stemming does not contribute to significant improvements\n",
    "***"
   ]
  },
  {
   "cell_type": "markdown",
   "metadata": {},
   "source": [
    "### attemptions to find the best class weight ratio, scarce class is weighted heavily "
   ]
  },
  {
   "cell_type": "code",
   "execution_count": 123,
   "metadata": {},
   "outputs": [
    {
     "name": "stdout",
     "output_type": "stream",
     "text": [
      "{0: 2000, 1: 1}\n"
     ]
    },
    {
     "name": "stderr",
     "output_type": "stream",
     "text": [
      "/opt/anaconda3/lib/python3.7/site-packages/sklearn/utils/validation.py:724: DataConversionWarning: A column-vector y was passed when a 1d array was expected. Please change the shape of y to (n_samples, ), for example using ravel().\n",
      "  y = column_or_1d(y, warn=True)\n"
     ]
    },
    {
     "name": "stdout",
     "output_type": "stream",
     "text": [
      "accuracy 0.969441210710128\n",
      "              precision    recall  f1-score   support\n",
      "\n",
      "           0       0.01      0.56      0.02        18\n",
      "           1       1.00      0.97      0.98     34342\n",
      "\n",
      "    accuracy                           0.97     34360\n",
      "   macro avg       0.50      0.76      0.50     34360\n",
      "weighted avg       1.00      0.97      0.98     34360\n",
      "\n",
      "{0: 3000, 1: 1}\n"
     ]
    },
    {
     "name": "stderr",
     "output_type": "stream",
     "text": [
      "/opt/anaconda3/lib/python3.7/site-packages/sklearn/utils/validation.py:724: DataConversionWarning: A column-vector y was passed when a 1d array was expected. Please change the shape of y to (n_samples, ), for example using ravel().\n",
      "  y = column_or_1d(y, warn=True)\n"
     ]
    },
    {
     "name": "stdout",
     "output_type": "stream",
     "text": [
      "accuracy 0.9672875436554133\n",
      "              precision    recall  f1-score   support\n",
      "\n",
      "           0       0.01      0.56      0.02        18\n",
      "           1       1.00      0.97      0.98     34342\n",
      "\n",
      "    accuracy                           0.97     34360\n",
      "   macro avg       0.50      0.76      0.50     34360\n",
      "weighted avg       1.00      0.97      0.98     34360\n",
      "\n",
      "{0: 3000, 1: 2}\n"
     ]
    },
    {
     "name": "stderr",
     "output_type": "stream",
     "text": [
      "/opt/anaconda3/lib/python3.7/site-packages/sklearn/utils/validation.py:724: DataConversionWarning: A column-vector y was passed when a 1d array was expected. Please change the shape of y to (n_samples, ), for example using ravel().\n",
      "  y = column_or_1d(y, warn=True)\n"
     ]
    },
    {
     "name": "stdout",
     "output_type": "stream",
     "text": [
      "accuracy 0.97430151338766\n",
      "              precision    recall  f1-score   support\n",
      "\n",
      "           0       0.01      0.56      0.02        18\n",
      "           1       1.00      0.97      0.99     34342\n",
      "\n",
      "    accuracy                           0.97     34360\n",
      "   macro avg       0.51      0.77      0.50     34360\n",
      "weighted avg       1.00      0.97      0.99     34360\n",
      "\n"
     ]
    }
   ],
   "source": [
    "#fixed model, various weights\n",
    "weights = {0:2000, 1:1}\n",
    "print(weights)\n",
    "logreg6 = Pipeline([('tfidf', TfidfVectorizer(max_features=100)),\n",
    "                ('clf', LogisticRegression(\n",
    "            solver='liblinear',class_weight=weights))\n",
    "               ])\n",
    "logreg6.fit(X_new_train, y_train)\n",
    "\n",
    "y_pred = logreg6.predict(X_new_test)\n",
    "\n",
    "print('accuracy %s' % accuracy_score(y_pred, y_test))\n",
    "print(classification_report(y_test, y_pred))\n",
    "\n",
    "\n",
    "weights2 = {0:3000, 1:1}\n",
    "print(weights2)\n",
    "logreg7 = Pipeline([('tfidf', TfidfVectorizer(max_features=100)),\n",
    "                ('clf', LogisticRegression(\n",
    "            solver='liblinear',class_weight=weights2))\n",
    "               ])\n",
    "logreg7.fit(X_new_train, y_train)\n",
    "\n",
    "y_pred = logreg7.predict(X_new_test)\n",
    "\n",
    "print('accuracy %s' % accuracy_score(y_pred, y_test))\n",
    "print(classification_report(y_test, y_pred))\n",
    "\n",
    "\n",
    "weights3 = {0:3000, 1:2}\n",
    "print(weights3)\n",
    "logreg8 = Pipeline([('tfidf', TfidfVectorizer(max_features=100)),\n",
    "                ('clf', LogisticRegression(\n",
    "            solver='liblinear',class_weight=weights3))\n",
    "               ])\n",
    "logreg8.fit(X_new_train, y_train)\n",
    "\n",
    "\n",
    "\n",
    "y_pred = logreg8.predict(X_new_test)\n",
    "\n",
    "print('accuracy %s' % accuracy_score(y_pred, y_test))\n",
    "print(classification_report(y_test, y_pred))"
   ]
  },
  {
   "cell_type": "markdown",
   "metadata": {},
   "source": [
    "### The more formal approach to find the best set of parameters should be grid search"
   ]
  },
  {
   "cell_type": "code",
   "execution_count": null,
   "metadata": {},
   "outputs": [],
   "source": [
    "#tried to use grid search and run this cell, but it takes too long, >=20min\n",
    "from numpy import mean\n",
    "from sklearn.model_selection import GridSearchCV\n",
    "from sklearn.model_selection import RepeatedStratifiedKFold\n",
    "balance = [{0:1000, 1:1}, {0:2000, 1:1}, {0:3000, 1:1}, {0:3000, 1:2}]\n",
    "param_grid = dict(class_weight=balance)\n",
    "# define evaluation procedure\n",
    "cv = RepeatedStratifiedKFold(n_splits=6, n_repeats=3, random_state=36)\n",
    "# define grid search, here we use the old model in logreg2\n",
    "grid = GridSearchCV(estimator=logreg2, param_grid=param_grid, n_jobs=-1, cv=cv, scoring='roc_auc')\n",
    "# execute the grid search\n",
    "grid_result = grid.fit(X_new, y)\n",
    "# report the best configuration\n",
    "print(\"Best: %f using %s\" % (grid_result.best_score_, grid_result.best_params_))\n",
    "# report all configurations\n",
    "means = grid_result.cv_results_['mean_test_score']\n",
    "stds = grid_result.cv_results_['std_test_score']\n",
    "params = grid_result.cv_results_['params']\n",
    "for mean, stdev, param in zip(means, stds, params):\n",
    "    print(\"%f (%f) with: %r\" % (mean, stdev, param))\n",
    "from numpy import mean\n",
    "from sklearn.model_selection import GridSearchCV\n",
    "from sklearn.model_selection import RepeatedStratifiedKFold\n",
    "balance = [{0:1000, 1:1}, {0:2000, 1:1}, {0:3000, 1:1}, {0:3000, 1:2}]\n",
    "param_grid = dict(class_weight=balance)\n",
    "# define evaluation procedure\n",
    "cv = RepeatedStratifiedKFold(n_splits=6, n_repeats=3, random_state=36)\n",
    "\n",
    "logreg5 = Pipeline([('vect', CountVectorizer()),\n",
    "                ('tfidf', TfidfTransformer()),\n",
    "                ('clf', LogisticRegression(solver='liblinear'))\n",
    "               ])\n",
    "# define grid search, here we use the old model in logreg2\n",
    "grid = GridSearchCV(estimator=logreg5, param_grid=param_grid, n_jobs=-1, cv=cv, scoring='roc_auc')\n",
    "# execute the grid search\n",
    "grid_result = grid.fit(X_new, y)\n",
    "# report the best configuration\n",
    "print(\"Best: %f using %s\" % (grid_result.best_score_, grid_result.best_params_))\n",
    "# report all configurations\n",
    "means = grid_result.cv_results_['mean_test_score']\n",
    "stds = grid_result.cv_results_['std_test_score']\n",
    "params = grid_result.cv_results_['params']\n",
    "for mean, stdev, param in zip(means, stds, params):\n",
    "    print(\"%f (%f) with: %r\" % (mean, stdev, param))"
   ]
  },
  {
   "cell_type": "markdown",
   "metadata": {},
   "source": [
    "# Predictions using integration of vectorized text info and other features"
   ]
  },
  {
   "cell_type": "code",
   "execution_count": 192,
   "metadata": {},
   "outputs": [],
   "source": [
    "import numpy as np\n",
    "other_feature_cols = ['COUNTRY_CODE_revised','CASESTATUS_revised','JURIS_TRIGGER_revised','FINANCIAL_DAMAGES_AMT', 'TOTAL_AMOUNT', 'SETTLEMENT_AMOUNT', 'SETTLEMENT_AMOUNT_CASH','COMPANY_ID']\n",
    "\n",
    "X_other = df[other_feature_cols]\n",
    "X_all = pd.concat([X_new,X_other],axis=1,join='inner')\n",
    "X_all = X_all.fillna(0)\n",
    "#y_new = y.values.ravel()\n",
    "y_new = np.array(y_new)"
   ]
  },
  {
   "cell_type": "code",
   "execution_count": 194,
   "metadata": {},
   "outputs": [],
   "source": [
    "X_all_train, X_all_test, y_train, y_test = train_test_split(X_all, y, test_size=0.25, random_state=16, stratify=y)"
   ]
  },
  {
   "cell_type": "code",
   "execution_count": 74,
   "metadata": {},
   "outputs": [],
   "source": [
    "from sklearn.base import BaseEstimator, TransformerMixin\n",
    "class ColumnSelector(BaseEstimator, TransformerMixin):\n",
    "    def __init__(self, columns):\n",
    "        self.columns = columns\n",
    "\n",
    "    def fit(self, X, y=None):\n",
    "        return self\n",
    "\n",
    "    def transform(self, X):\n",
    "        return X[self.columns]"
   ]
  },
  {
   "cell_type": "code",
   "execution_count": 103,
   "metadata": {},
   "outputs": [],
   "source": [
    "class ShapePrinter(BaseEstimator, TransformerMixin):\n",
    "    def fit(self, X, y=None):\n",
    "        return self\n",
    "\n",
    "    def transform(self, X):\n",
    "        print(f'Shape of input: {X.shape}')\n",
    "        return X"
   ]
  },
  {
   "cell_type": "markdown",
   "metadata": {},
   "source": [
    "### logistic default solver = 'lbfgs'"
   ]
  },
  {
   "cell_type": "code",
   "execution_count": 134,
   "metadata": {},
   "outputs": [
    {
     "name": "stdout",
     "output_type": "stream",
     "text": [
      "X_train shape: (103079, 8)\n",
      "y_train shape: (103079, 1)\n",
      "Shape of input: (103079, 100)\n",
      "Shape of input: (103079, 7)\n"
     ]
    },
    {
     "name": "stderr",
     "output_type": "stream",
     "text": [
      "/opt/anaconda3/lib/python3.7/site-packages/sklearn/linear_model/logistic.py:432: FutureWarning: Default solver will be changed to 'lbfgs' in 0.22. Specify a solver to silence this warning.\n",
      "  FutureWarning)\n",
      "/opt/anaconda3/lib/python3.7/site-packages/sklearn/utils/validation.py:724: DataConversionWarning: A column-vector y was passed when a 1d array was expected. Please change the shape of y to (n_samples, ), for example using ravel().\n",
      "  y = column_or_1d(y, warn=True)\n"
     ]
    },
    {
     "name": "stdout",
     "output_type": "stream",
     "text": [
      "Shape of input: (34360, 100)\n",
      "Shape of input: (34360, 7)\n",
      "accuracy 0.995372526193248\n",
      "              precision    recall  f1-score   support\n",
      "\n",
      "           0       0.10      1.00      0.18        18\n",
      "           1       1.00      1.00      1.00     34342\n",
      "\n",
      "    accuracy                           1.00     34360\n",
      "   macro avg       0.55      1.00      0.59     34360\n",
      "weighted avg       1.00      1.00      1.00     34360\n",
      "\n"
     ]
    }
   ],
   "source": [
    "from sklearn.pipeline import FeatureUnion\n",
    "weights0 = {0:3000, 1:2}\n",
    "\n",
    "logreg8 = Pipeline([\n",
    "    ('union', FeatureUnion(\n",
    "        transformer_list=[\n",
    "            ('text', Pipeline([\n",
    "                ('selector', ColumnSelector(columns='CASE_DESCRIPTION')),\n",
    "                ('tfidf', TfidfVectorizer(max_features=100)),\n",
    "                ('shape_printer', ShapePrinter())\n",
    "            ])),\n",
    "            ('simple_features', Pipeline([\n",
    "                ('selector', ColumnSelector(columns=['COUNTRY_CODE_revised','CASESTATUS_revised','JURIS_TRIGGER_revised','FINANCIAL_DAMAGES_AMT', 'TOTAL_AMOUNT', 'SETTLEMENT_AMOUNT', \n",
    "                                                     'SETTLEMENT_AMOUNT_CASH','COMPANY_ID'])),\n",
    "                #('count_vectorizer', CountVectorizer()),\n",
    "                ('shape_printer', ShapePrinter()) \n",
    "            ]))\n",
    "        ]\n",
    "    )),\n",
    "    ('clf', LogisticRegression(class_weight=weights0))\n",
    "])\n",
    "\n",
    "print(\"X_train shape:\", X_all_train.shape)\n",
    "print(\"y_train shape:\", y_train.shape)\n",
    "logreg8.fit(X_all_train, y_train)\n",
    "\n",
    "\n",
    "\n",
    "y_pred = logreg8.predict(X_all_test)\n",
    "\n",
    "print('accuracy %s' % accuracy_score(y_pred, y_test))\n",
    "print(classification_report(y_test, y_pred))"
   ]
  },
  {
   "cell_type": "markdown",
   "metadata": {},
   "source": [
    "### logistic customized solver = 'saga'"
   ]
  },
  {
   "cell_type": "code",
   "execution_count": 197,
   "metadata": {},
   "outputs": [
    {
     "name": "stdout",
     "output_type": "stream",
     "text": [
      "X_train shape: (103079, 9)\n",
      "y_train shape: (103079, 1)\n",
      "Shape of input: (103079, 100)\n",
      "Shape of input: (103079, 8)\n"
     ]
    },
    {
     "name": "stderr",
     "output_type": "stream",
     "text": [
      "/opt/anaconda3/lib/python3.7/site-packages/sklearn/utils/validation.py:724: DataConversionWarning: A column-vector y was passed when a 1d array was expected. Please change the shape of y to (n_samples, ), for example using ravel().\n",
      "  y = column_or_1d(y, warn=True)\n",
      "/opt/anaconda3/lib/python3.7/site-packages/sklearn/linear_model/sag.py:337: ConvergenceWarning: The max_iter was reached which means the coef_ did not converge\n",
      "  \"the coef_ did not converge\", ConvergenceWarning)\n"
     ]
    },
    {
     "name": "stdout",
     "output_type": "stream",
     "text": [
      "Shape of input: (34360, 100)\n",
      "Shape of input: (34360, 8)\n",
      "accuracy 0.9981955762514552\n",
      "              precision    recall  f1-score   support\n",
      "\n",
      "           0       0.23      1.00      0.37        18\n",
      "           1       1.00      1.00      1.00     34342\n",
      "\n",
      "    accuracy                           1.00     34360\n",
      "   macro avg       0.61      1.00      0.68     34360\n",
      "weighted avg       1.00      1.00      1.00     34360\n",
      "\n"
     ]
    }
   ],
   "source": [
    "# solver = saga\n",
    "logreg9 = Pipeline([\n",
    "    ('union', FeatureUnion(\n",
    "        transformer_list=[\n",
    "            ('text', Pipeline([\n",
    "                ('selector', ColumnSelector(columns='CASE_DESCRIPTION')),\n",
    "                ('tfidf', TfidfVectorizer(max_features=100)),\n",
    "                ('shape_printer', ShapePrinter())\n",
    "            ])),\n",
    "            ('simple_features', Pipeline([\n",
    "                ('selector', ColumnSelector(columns=['COUNTRY_CODE_revised','CASESTATUS_revised','JURIS_TRIGGER_revised','FINANCIAL_DAMAGES_AMT', 'TOTAL_AMOUNT', 'SETTLEMENT_AMOUNT', \n",
    "                                                     'SETTLEMENT_AMOUNT_CASH','COMPANY_ID'])),\n",
    "                #('count_vectorizer', CountVectorizer()),\n",
    "                ('shape_printer', ShapePrinter()) \n",
    "            ]))\n",
    "        ]\n",
    "    )),\n",
    "    ('clf', LogisticRegression(solver='saga',class_weight=weights0))\n",
    "])\n",
    "\n",
    "print(\"X_train shape:\", X_all_train.shape)\n",
    "print(\"y_train shape:\", y_train.shape)\n",
    "logreg9.fit(X_all_train, y_train)\n",
    "\n",
    "\n",
    "\n",
    "y_pred = logreg9.predict(X_all_test)\n",
    "\n",
    "print('accuracy %s' % accuracy_score(y_pred, y_test))\n",
    "print(classification_report(y_test, y_pred))"
   ]
  },
  {
   "cell_type": "markdown",
   "metadata": {},
   "source": [
    "_word2vec model is too large, so I skip the trial_"
   ]
  },
  {
   "cell_type": "markdown",
   "metadata": {},
   "source": [
    "# <font color=blue>CASE_TYPE prediction</font>\n",
    "***"
   ]
  },
  {
   "cell_type": "code",
   "execution_count": 198,
   "metadata": {},
   "outputs": [],
   "source": [
    "other_feature_cols2 = ['COUNTRY_CODE_revised','CASESTATUS_revised','JURIS_TRIGGER_revised','FINANCIAL_DAMAGES_AMT', 'TOTAL_AMOUNT', 'SETTLEMENT_AMOUNT', 'SETTLEMENT_AMOUNT_CASH', 'AFFECTED_COUNT','COMPANY_ID']\n",
    "\n",
    "X_other2 = df[other_feature_cols2]\n",
    "X_all2 = pd.concat([X_new,X_other2],axis=1,join='inner')\n",
    "X_all2 = X_all2.fillna(0)"
   ]
  },
  {
   "cell_type": "code",
   "execution_count": 199,
   "metadata": {},
   "outputs": [],
   "source": [
    "y_type = df['CASE_TYPE_revised']\n",
    "X_train, X_test, y_train, y_test = train_test_split(X_all2, y_type, test_size=0.25, random_state=16, stratify=y_type)"
   ]
  },
  {
   "cell_type": "markdown",
   "metadata": {},
   "source": [
    "## logistic solver = 'lbfgs'"
   ]
  },
  {
   "cell_type": "code",
   "execution_count": 181,
   "metadata": {},
   "outputs": [
    {
     "name": "stdout",
     "output_type": "stream",
     "text": [
      "X_train shape: (103079, 10)\n",
      "y_train shape: (103079,)\n",
      "Shape of input: (103079, 1000)\n",
      "Shape of input: (103079, 9)\n"
     ]
    },
    {
     "name": "stderr",
     "output_type": "stream",
     "text": [
      "/opt/anaconda3/lib/python3.7/site-packages/sklearn/linear_model/logistic.py:432: FutureWarning: Default solver will be changed to 'lbfgs' in 0.22. Specify a solver to silence this warning.\n",
      "  FutureWarning)\n",
      "/opt/anaconda3/lib/python3.7/site-packages/sklearn/linear_model/logistic.py:469: FutureWarning: Default multi_class will be changed to 'auto' in 0.22. Specify the multi_class option to silence this warning.\n",
      "  \"this warning.\", FutureWarning)\n",
      "/opt/anaconda3/lib/python3.7/site-packages/sklearn/svm/base.py:929: ConvergenceWarning: Liblinear failed to converge, increase the number of iterations.\n",
      "  \"the number of iterations.\", ConvergenceWarning)\n"
     ]
    },
    {
     "name": "stdout",
     "output_type": "stream",
     "text": [
      "Shape of input: (34360, 1000)\n",
      "Shape of input: (34360, 9)\n",
      "accuracy 0.4474679860302678\n",
      "              precision    recall  f1-score   support\n",
      "\n",
      "           1       0.00      0.00      0.00       169\n",
      "           2       0.00      0.00      0.00       398\n",
      "           3       0.14      0.02      0.04       368\n",
      "           4       0.45      1.00      0.62     15166\n",
      "           5       0.00      0.00      0.00       827\n",
      "           6       0.43      0.01      0.02      1078\n",
      "           7       0.01      0.00      0.01       208\n",
      "           8       0.00      0.00      0.00       259\n",
      "           9       0.00      0.00      0.00        33\n",
      "          10       0.00      0.00      0.00       484\n",
      "          11       0.22      0.44      0.30         9\n",
      "          12       0.00      0.00      0.00         9\n",
      "          13       0.00      0.00      0.00      3241\n",
      "          14       0.00      0.00      0.00      2176\n",
      "          15       0.38      0.03      0.05      9667\n",
      "          16       0.00      0.00      0.00       268\n",
      "\n",
      "    accuracy                           0.45     34360\n",
      "   macro avg       0.10      0.09      0.06     34360\n",
      "weighted avg       0.32      0.45      0.29     34360\n",
      "\n"
     ]
    },
    {
     "name": "stderr",
     "output_type": "stream",
     "text": [
      "/opt/anaconda3/lib/python3.7/site-packages/sklearn/metrics/classification.py:1437: UndefinedMetricWarning: Precision and F-score are ill-defined and being set to 0.0 in labels with no predicted samples.\n",
      "  'precision', 'predicted', average, warn_for)\n"
     ]
    }
   ],
   "source": [
    "#weights1 = {\"0\":92, \"1\":39, 2:42, 3:1, 4:19, 5:14, 6:72, 7:58, 8:560, 9:29, 10:1890, 11:3022, 12:5, 13:7, 14:2, 15:55}\n",
    "weights1 = {1:1, 2:39, 3:42, 4:1, 5:19, 6:14, 7:72, 8:58, 9:1, 10:29, 11:1, 12:1, 13:5, 14:7, 15:2, 16:55}\n",
    "logreg1 = Pipeline([\n",
    "    ('union', FeatureUnion(\n",
    "        transformer_list=[\n",
    "            ('text', Pipeline([\n",
    "                ('selector', ColumnSelector(columns='CASE_DESCRIPTION')),\n",
    "                ('tfidf', TfidfVectorizer(max_features=1000)),\n",
    "                ('shape_printer', ShapePrinter())\n",
    "            ])),\n",
    "            ('simple_features', Pipeline([\n",
    "                ('selector', ColumnSelector(columns=['COUNTRY_CODE_revised','CASESTATUS_revised','JURIS_TRIGGER_revised','FINANCIAL_DAMAGES_AMT'\n",
    "                                                     , 'TOTAL_AMOUNT', 'AFFECTED_COUNT','COMPANY_ID','SETTLEMENT_AMOUNT', 'SETTLEMENT_AMOUNT_CASH'\n",
    "                                                     ])),\n",
    "                #('count_vectorizer', CountVectorizer()),\n",
    "                ('shape_printer', ShapePrinter()) \n",
    "            ]))\n",
    "        ]\n",
    "    )),\n",
    "    ('clf', LogisticRegression(class_weight=weights1))\n",
    "])\n",
    "\n",
    "print(\"X_train shape:\", X_train.shape)\n",
    "print(\"y_train shape:\", y_train.shape)\n",
    "logreg1.fit(X_train, y_train)\n",
    "\n",
    "\n",
    "\n",
    "y_pred = logreg1.predict(X_test)\n",
    "print('accuracy %s' % accuracy_score(y_pred, y_test))\n",
    "print(classification_report(y_test, y_pred))"
   ]
  },
  {
   "cell_type": "markdown",
   "metadata": {},
   "source": [
    "## predictions using text info only"
   ]
  },
  {
   "cell_type": "code",
   "execution_count": 182,
   "metadata": {},
   "outputs": [
    {
     "name": "stderr",
     "output_type": "stream",
     "text": [
      "/opt/anaconda3/lib/python3.7/site-packages/sklearn/linear_model/logistic.py:432: FutureWarning: Default solver will be changed to 'lbfgs' in 0.22. Specify a solver to silence this warning.\n",
      "  FutureWarning)\n",
      "/opt/anaconda3/lib/python3.7/site-packages/sklearn/linear_model/logistic.py:469: FutureWarning: Default multi_class will be changed to 'auto' in 0.22. Specify the multi_class option to silence this warning.\n",
      "  \"this warning.\", FutureWarning)\n"
     ]
    },
    {
     "name": "stdout",
     "output_type": "stream",
     "text": [
      "accuracy 0.14417927823050058\n"
     ]
    },
    {
     "name": "stderr",
     "output_type": "stream",
     "text": [
      "/opt/anaconda3/lib/python3.7/site-packages/sklearn/metrics/classification.py:1437: UndefinedMetricWarning: Precision and F-score are ill-defined and being set to 0.0 in labels with no predicted samples.\n",
      "  'precision', 'predicted', average, warn_for)\n"
     ]
    },
    {
     "name": "stdout",
     "output_type": "stream",
     "text": [
      "              precision    recall  f1-score   support\n",
      "\n",
      "           1       0.00      0.00      0.00       169\n",
      "           2       0.01      0.08      0.02       398\n",
      "           3       0.01      0.08      0.02       368\n",
      "           4       0.44      0.19      0.27     15166\n",
      "           5       0.02      0.05      0.03       827\n",
      "           6       0.03      0.03      0.03      1078\n",
      "           7       0.01      0.10      0.01       208\n",
      "           8       0.01      0.09      0.01       259\n",
      "           9       0.00      0.00      0.00        33\n",
      "          10       0.02      0.08      0.03       484\n",
      "          11       0.00      0.00      0.00         9\n",
      "          12       0.00      0.00      0.00         9\n",
      "          13       0.09      0.02      0.03      3241\n",
      "          14       0.06      0.02      0.03      2176\n",
      "          15       0.28      0.17      0.21      9667\n",
      "          16       0.01      0.10      0.02       268\n",
      "\n",
      "    accuracy                           0.14     34360\n",
      "   macro avg       0.06      0.06      0.04     34360\n",
      "weighted avg       0.29      0.14      0.19     34360\n",
      "\n"
     ]
    }
   ],
   "source": [
    "#predicts using text info only\n",
    "logreg2 = Pipeline([('tfidf', TfidfVectorizer(max_features=1000)),\n",
    "                ('clf', LogisticRegression(\n",
    "            class_weight=weights1))\n",
    "               ])\n",
    "logreg2.fit(X_new_train, y_train)\n",
    "\n",
    "\n",
    "\n",
    "y_pred = logreg2.predict(X_new_test)\n",
    "\n",
    "print('accuracy %s' % accuracy_score(y_pred, y_test))\n",
    "print(classification_report(y_test, y_pred))"
   ]
  },
  {
   "cell_type": "markdown",
   "metadata": {},
   "source": [
    "## predictions using customized logistic where solver = 'saga'"
   ]
  },
  {
   "cell_type": "code",
   "execution_count": 200,
   "metadata": {},
   "outputs": [
    {
     "name": "stdout",
     "output_type": "stream",
     "text": [
      "X_train shape: (103079, 10)\n",
      "y_train shape: (103079,)\n",
      "Shape of input: (103079, 1000)\n",
      "Shape of input: (103079, 9)\n"
     ]
    },
    {
     "name": "stderr",
     "output_type": "stream",
     "text": [
      "/opt/anaconda3/lib/python3.7/site-packages/sklearn/linear_model/logistic.py:469: FutureWarning: Default multi_class will be changed to 'auto' in 0.22. Specify the multi_class option to silence this warning.\n",
      "  \"this warning.\", FutureWarning)\n",
      "/opt/anaconda3/lib/python3.7/site-packages/sklearn/linear_model/sag.py:337: ConvergenceWarning: The max_iter was reached which means the coef_ did not converge\n",
      "  \"the coef_ did not converge\", ConvergenceWarning)\n"
     ]
    },
    {
     "name": "stdout",
     "output_type": "stream",
     "text": [
      "Shape of input: (34360, 1000)\n",
      "Shape of input: (34360, 9)\n",
      "accuracy 0.2781140861466822\n",
      "              precision    recall  f1-score   support\n",
      "\n",
      "           1       0.00      0.00      0.00       169\n",
      "           2       0.00      0.00      0.00       398\n",
      "           3       0.00      0.00      0.00       368\n",
      "           4       0.00      0.00      0.00     15166\n",
      "           5       0.00      0.00      0.00       827\n",
      "           6       0.00      0.00      0.00      1078\n",
      "           7       0.01      0.00      0.01       208\n",
      "           8       0.02      0.01      0.01       259\n",
      "           9       0.00      0.00      0.00        33\n",
      "          10       0.00      0.00      0.00       484\n",
      "          11       0.00      0.00      0.00         9\n",
      "          12       0.00      0.00      0.00         9\n",
      "          13       0.00      0.00      0.00      3241\n",
      "          14       0.00      0.00      0.00      2176\n",
      "          15       0.28      0.99      0.44      9667\n",
      "          16       0.00      0.00      0.00       268\n",
      "\n",
      "    accuracy                           0.28     34360\n",
      "   macro avg       0.02      0.06      0.03     34360\n",
      "weighted avg       0.08      0.28      0.12     34360\n",
      "\n"
     ]
    },
    {
     "name": "stderr",
     "output_type": "stream",
     "text": [
      "/opt/anaconda3/lib/python3.7/site-packages/sklearn/metrics/classification.py:1437: UndefinedMetricWarning: Precision and F-score are ill-defined and being set to 0.0 in labels with no predicted samples.\n",
      "  'precision', 'predicted', average, warn_for)\n"
     ]
    }
   ],
   "source": [
    "#solver = liblinear\n",
    "logreg1 = Pipeline([\n",
    "    ('union', FeatureUnion(\n",
    "        transformer_list=[\n",
    "            ('text', Pipeline([\n",
    "                ('selector', ColumnSelector(columns='CASE_DESCRIPTION')),\n",
    "                ('tfidf', TfidfVectorizer(max_features=1000)),\n",
    "                ('shape_printer', ShapePrinter())\n",
    "            ])),\n",
    "            ('simple_features', Pipeline([\n",
    "                ('selector', ColumnSelector(columns=['COUNTRY_CODE_revised','CASESTATUS_revised','JURIS_TRIGGER_revised','FINANCIAL_DAMAGES_AMT'\n",
    "                                                     , 'TOTAL_AMOUNT', 'AFFECTED_COUNT','COMPANY_ID','SETTLEMENT_AMOUNT', 'SETTLEMENT_AMOUNT_CASH'\n",
    "                                                     ])),\n",
    "                #('count_vectorizer', CountVectorizer()),\n",
    "                ('shape_printer', ShapePrinter()) \n",
    "            ]))\n",
    "        ]\n",
    "    )),\n",
    "    ('clf', LogisticRegression(solver='saga',class_weight=weights1))\n",
    "])\n",
    "\n",
    "print(\"X_train shape:\", X_train.shape)\n",
    "print(\"y_train shape:\", y_train.shape)\n",
    "logreg1.fit(X_train, y_train)\n",
    "\n",
    "\n",
    "\n",
    "y_pred = logreg1.predict(X_test)\n",
    "print('accuracy %s' % accuracy_score(y_pred, y_test))\n",
    "print(classification_report(y_test, y_pred))"
   ]
  },
  {
   "cell_type": "code",
   "execution_count": null,
   "metadata": {},
   "outputs": [],
   "source": []
  }
 ],
 "metadata": {
  "kernelspec": {
   "display_name": "Python 3",
   "language": "python",
   "name": "python3"
  },
  "language_info": {
   "codemirror_mode": {
    "name": "ipython",
    "version": 3
   },
   "file_extension": ".py",
   "mimetype": "text/x-python",
   "name": "python",
   "nbconvert_exporter": "python",
   "pygments_lexer": "ipython3",
   "version": "3.7.4"
  }
 },
 "nbformat": 4,
 "nbformat_minor": 2
}
